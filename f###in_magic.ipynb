{
 "cells": [
  {
   "cell_type": "code",
   "execution_count": 2,
   "metadata": {
    "collapsed": false,
    "slideshow": {
     "slide_type": "slide"
    }
   },
   "outputs": [
    {
     "name": "stdout",
     "output_type": "stream",
     "text": [
      "IPython is amazing.\n"
     ]
    }
   ],
   "source": [
    "print(\"IPython is amazing.\")"
   ]
  },
  {
   "cell_type": "markdown",
   "metadata": {
    "slideshow": {
     "slide_type": "fragment"
    }
   },
   "source": [
    "Seriously, it's awesome."
   ]
  },
  {
   "cell_type": "code",
   "execution_count": 3,
   "metadata": {
    "collapsed": true,
    "slideshow": {
     "slide_type": "fragment"
    }
   },
   "outputs": [],
   "source": [
    "%magic"
   ]
  },
  {
   "cell_type": "code",
   "execution_count": 4,
   "metadata": {
    "collapsed": true,
    "slideshow": {
     "slide_type": "slide"
    }
   },
   "outputs": [],
   "source": [
    "import IPython\n",
    "IPython.core.page.page = IPython.core.page.display_page"
   ]
  },
  {
   "cell_type": "code",
   "execution_count": 1,
   "metadata": {
    "collapsed": false,
    "scrolled": true,
    "slideshow": {
     "slide_type": "fragment"
    }
   },
   "outputs": [],
   "source": [
    "%magic\n",
    "# Running this after the regular parser is overwritten in the cell above will end up \n",
    "# filling 90% of this notebook by volume, so beware."
   ]
  },
  {
   "cell_type": "code",
   "execution_count": 5,
   "metadata": {
    "collapsed": false
   },
   "outputs": [
    {
     "data": {
      "text/plain": [
       "\u001b[0;31mType:        \u001b[0mdict\n",
       "\u001b[0;31mString form: \u001b[0m{'A': 'Captial', 'a': 'lowercase'}\n",
       "\u001b[0;31mLength:      \u001b[0m2\n",
       "\u001b[0;31mDocstring:\u001b[0m\n",
       "dict() -> new empty dictionary\n",
       "dict(mapping) -> new dictionary initialized from a mapping object's\n",
       "    (key, value) pairs\n",
       "dict(iterable) -> new dictionary initialized as if via:\n",
       "    d = {}\n",
       "    for k, v in iterable:\n",
       "        d[k] = v\n",
       "dict(**kwargs) -> new dictionary initialized with the name=value pairs\n",
       "    in the keyword argument list.  For example:  dict(one=1, two=2)"
      ]
     },
     "metadata": {},
     "output_type": "display_data"
    }
   ],
   "source": [
    "a = {'A': \"Captial\", 'a': \"lowercase\"}\n",
    "a?"
   ]
  },
  {
   "cell_type": "markdown",
   "metadata": {
    "slideshow": {
     "slide_type": "slide"
    }
   },
   "source": [
    "So, as a contrived and illustrative example, how do you find primes? Use the modulo operator! You know that if a number modulo any other operator returns a 0, then the first one can be divided evenly by the second one."
   ]
  },
  {
   "cell_type": "code",
   "execution_count": 6,
   "metadata": {
    "collapsed": false,
    "slideshow": {
     "slide_type": "subslide"
    }
   },
   "outputs": [
    {
     "data": {
      "text/plain": [
       "1"
      ]
     },
     "execution_count": 6,
     "metadata": {},
     "output_type": "execute_result"
    }
   ],
   "source": [
    "5 % 2"
   ]
  },
  {
   "cell_type": "code",
   "execution_count": 7,
   "metadata": {
    "collapsed": false
   },
   "outputs": [
    {
     "data": {
      "text/plain": [
       "2"
      ]
     },
     "execution_count": 7,
     "metadata": {},
     "output_type": "execute_result"
    }
   ],
   "source": [
    "5 % 3"
   ]
  },
  {
   "cell_type": "markdown",
   "metadata": {
    "slideshow": {
     "slide_type": "notes"
    }
   },
   "source": [
    "So, make sure you point out that you've got 2 and 3 in your primes already. Also, notice that this cell is a special \"Notes\" cell, that only appears to the presenter when the notebook is turned into a presentation."
   ]
  },
  {
   "cell_type": "code",
   "execution_count": 8,
   "metadata": {
    "collapsed": false,
    "slideshow": {
     "slide_type": "subslide"
    }
   },
   "outputs": [
    {
     "data": {
      "text/plain": [
       "0"
      ]
     },
     "execution_count": 8,
     "metadata": {},
     "output_type": "execute_result"
    }
   ],
   "source": [
    "6 % 2"
   ]
  },
  {
   "cell_type": "markdown",
   "metadata": {},
   "source": [
    "So, obviously six is divisible by 2. Also, we only have to test the prime numbers less than a number, and not the composites, because once we've determined that a number isn't divisible by a prime number, we've also determined that it can't be divisible by any multiple of that prime."
   ]
  },
  {
   "cell_type": "code",
   "execution_count": 9,
   "metadata": {
    "collapsed": false
   },
   "outputs": [
    {
     "data": {
      "text/plain": [
       "1"
      ]
     },
     "execution_count": 9,
     "metadata": {},
     "output_type": "execute_result"
    }
   ],
   "source": [
    "7 % 2"
   ]
  },
  {
   "cell_type": "code",
   "execution_count": 10,
   "metadata": {
    "collapsed": false
   },
   "outputs": [
    {
     "data": {
      "text/plain": [
       "1"
      ]
     },
     "execution_count": 10,
     "metadata": {},
     "output_type": "execute_result"
    }
   ],
   "source": [
    "7 % 3"
   ]
  },
  {
   "cell_type": "code",
   "execution_count": 11,
   "metadata": {
    "collapsed": false
   },
   "outputs": [
    {
     "data": {
      "text/plain": [
       "2"
      ]
     },
     "execution_count": 11,
     "metadata": {},
     "output_type": "execute_result"
    }
   ],
   "source": [
    "7 % 5"
   ]
  },
  {
   "cell_type": "markdown",
   "metadata": {
    "slideshow": {
     "slide_type": "fragment"
    }
   },
   "source": [
    "So, if we have a list of primes we've found so far, we just need to do `number % prime` for every prime (actully not for every prime in the list, if you can see why), and if none of those are zero, we've found a new prime."
   ]
  },
  {
   "cell_type": "code",
   "execution_count": 12,
   "metadata": {
    "collapsed": false,
    "slideshow": {
     "slide_type": "slide"
    }
   },
   "outputs": [
    {
     "data": {
      "text/plain": [
       "{2, 3, 5, 7, 11, 13, 17, 19, 23}"
      ]
     },
     "execution_count": 12,
     "metadata": {},
     "output_type": "execute_result"
    }
   ],
   "source": [
    "def set_get_primes(limit):\n",
    "    primes = set()\n",
    "    for num in range(2, limit):\n",
    "        if all([num % prime != 0 for prime in primes]):\n",
    "            primes.add(num)\n",
    "    return primes\n",
    "\n",
    "set_get_primes(24)"
   ]
  },
  {
   "cell_type": "code",
   "execution_count": 13,
   "metadata": {
    "collapsed": false,
    "scrolled": true
   },
   "outputs": [
    {
     "data": {
      "text/plain": [
       "[2, 3, 5, 7, 11, 13, 17, 19, 23]"
      ]
     },
     "execution_count": 13,
     "metadata": {},
     "output_type": "execute_result"
    }
   ],
   "source": [
    "def list_get_primes(limit):\n",
    "    \"\"\"Get a list of all the primes under the integer limit.\"\"\"\n",
    "    primes = []\n",
    "    for num in range(2, limit):\n",
    "        if all([num % prime != 0 for prime in primes]):\n",
    "            primes.append(num)\n",
    "    return primes\n",
    "\n",
    "list_get_primes(24)"
   ]
  },
  {
   "cell_type": "markdown",
   "metadata": {},
   "source": [
    "Both of these do the same thing, but which one is faster?\n",
    "We can use the `%timeit` magic to find out!"
   ]
  },
  {
   "cell_type": "code",
   "execution_count": 14,
   "metadata": {
    "collapsed": false,
    "slideshow": {
     "slide_type": "slide"
    }
   },
   "outputs": [
    {
     "name": "stdout",
     "output_type": "stream",
     "text": [
      "1000 loops, best of 3: 1.13 ms per loop\n"
     ]
    }
   ],
   "source": [
    "%timeit list_get_primes(200)"
   ]
  },
  {
   "cell_type": "code",
   "execution_count": 15,
   "metadata": {
    "collapsed": false,
    "slideshow": {
     "slide_type": "fragment"
    }
   },
   "outputs": [
    {
     "name": "stdout",
     "output_type": "stream",
     "text": [
      "1000 loops, best of 3: 1.2 ms per loop\n"
     ]
    }
   ],
   "source": [
    "%timeit set_get_primes(200)"
   ]
  },
  {
   "cell_type": "markdown",
   "metadata": {
    "slideshow": {
     "slide_type": "fragment"
    }
   },
   "source": [
    "Maybe that's not a big enough number of primes?"
   ]
  },
  {
   "cell_type": "code",
   "execution_count": 16,
   "metadata": {
    "collapsed": false,
    "slideshow": {
     "slide_type": "fragment"
    }
   },
   "outputs": [
    {
     "name": "stdout",
     "output_type": "stream",
     "text": [
      "1 loops, best of 3: 4.56 s per loop\n"
     ]
    }
   ],
   "source": [
    "%timeit list_get_primes(20000)"
   ]
  },
  {
   "cell_type": "code",
   "execution_count": 17,
   "metadata": {
    "collapsed": false,
    "slideshow": {
     "slide_type": "fragment"
    }
   },
   "outputs": [
    {
     "name": "stdout",
     "output_type": "stream",
     "text": [
      "1 loops, best of 3: 4.99 s per loop\n"
     ]
    }
   ],
   "source": [
    "%timeit set_get_primes(20000)"
   ]
  },
  {
   "cell_type": "code",
   "execution_count": 18,
   "metadata": {
    "collapsed": true,
    "slideshow": {
     "slide_type": "slide"
    }
   },
   "outputs": [],
   "source": [
    "def fibber():\n",
    "    yield 1\n",
    "    yield 1\n",
    "    a, b = 1, 1\n",
    "    while True:\n",
    "        a, b = a + b, a\n",
    "        yield a"
   ]
  },
  {
   "cell_type": "markdown",
   "metadata": {},
   "source": [
    "Also for the sake of illustration, I've created a generator that returns the Fibbonacci sequence."
   ]
  },
  {
   "cell_type": "code",
   "execution_count": 19,
   "metadata": {
    "collapsed": true
   },
   "outputs": [],
   "source": [
    "fibber_one = fibber()"
   ]
  },
  {
   "cell_type": "code",
   "execution_count": 20,
   "metadata": {
    "collapsed": false
   },
   "outputs": [
    {
     "data": {
      "text/plain": [
       "<generator object fibber at 0x10b824510>"
      ]
     },
     "execution_count": 20,
     "metadata": {},
     "output_type": "execute_result"
    }
   ],
   "source": [
    "fibber_one"
   ]
  },
  {
   "cell_type": "code",
   "execution_count": 21,
   "metadata": {
    "collapsed": false,
    "slideshow": {
     "slide_type": "subslide"
    }
   },
   "outputs": [
    {
     "data": {
      "text/plain": [
       "\u001b[0;31mSignature: \u001b[0m\u001b[0mfibber\u001b[0m\u001b[0;34m(\u001b[0m\u001b[0;34m)\u001b[0m\u001b[0;34m\u001b[0m\u001b[0m\n",
       "\u001b[0;31mSource:\u001b[0m\n",
       "def fibber():\n",
       "    yield 1\n",
       "    yield 1\n",
       "    a, b = 1, 1\n",
       "    while True:\n",
       "        a, b = a + b, a\n",
       "        yield a\n",
       "\u001b[0;31mFile:      \u001b[0m~/src/ipy_talk/<ipython-input-18-fe98aa53bccb>\n",
       "\u001b[0;31mType:      \u001b[0mfunction"
      ]
     },
     "metadata": {},
     "output_type": "display_data"
    }
   ],
   "source": [
    "fibber??"
   ]
  },
  {
   "cell_type": "code",
   "execution_count": 22,
   "metadata": {
    "collapsed": false
   },
   "outputs": [
    {
     "data": {
      "text/plain": [
       "\u001b[0;31mType:        \u001b[0mgenerator\n",
       "\u001b[0;31mString form: \u001b[0m<generator object fibber at 0x10b824510>\n",
       "\u001b[0;31mDocstring:   \u001b[0m<no docstring>"
      ]
     },
     "metadata": {},
     "output_type": "display_data"
    }
   ],
   "source": [
    "fibber_one??"
   ]
  },
  {
   "cell_type": "code",
   "execution_count": 23,
   "metadata": {
    "collapsed": false,
    "slideshow": {
     "slide_type": "subslide"
    }
   },
   "outputs": [
    {
     "data": {
      "text/plain": [
       "1"
      ]
     },
     "execution_count": 23,
     "metadata": {},
     "output_type": "execute_result"
    }
   ],
   "source": [
    "next(fibber_one)"
   ]
  },
  {
   "cell_type": "code",
   "execution_count": 24,
   "metadata": {
    "collapsed": false
   },
   "outputs": [
    {
     "data": {
      "text/plain": [
       "1"
      ]
     },
     "execution_count": 24,
     "metadata": {},
     "output_type": "execute_result"
    }
   ],
   "source": [
    "next(fibber_one)"
   ]
  },
  {
   "cell_type": "code",
   "execution_count": 25,
   "metadata": {
    "collapsed": false
   },
   "outputs": [
    {
     "data": {
      "text/plain": [
       "2"
      ]
     },
     "execution_count": 25,
     "metadata": {},
     "output_type": "execute_result"
    }
   ],
   "source": [
    "next(fibber_one)"
   ]
  },
  {
   "cell_type": "code",
   "execution_count": 26,
   "metadata": {
    "collapsed": false
   },
   "outputs": [
    {
     "data": {
      "text/plain": [
       "3"
      ]
     },
     "execution_count": 26,
     "metadata": {},
     "output_type": "execute_result"
    }
   ],
   "source": [
    "next(fibber_one)"
   ]
  },
  {
   "cell_type": "code",
   "execution_count": 27,
   "metadata": {
    "collapsed": false,
    "slideshow": {
     "slide_type": "slide"
    }
   },
   "outputs": [
    {
     "data": {
      "text/plain": [
       "[5,\n",
       " 8,\n",
       " 13,\n",
       " 21,\n",
       " 34,\n",
       " 55,\n",
       " 89,\n",
       " 144,\n",
       " 233,\n",
       " 377,\n",
       " 610,\n",
       " 987,\n",
       " 1597,\n",
       " 2584,\n",
       " 4181,\n",
       " 6765,\n",
       " 10946,\n",
       " 17711,\n",
       " 28657,\n",
       " 46368,\n",
       " 75025,\n",
       " 121393,\n",
       " 196418,\n",
       " 317811,\n",
       " 514229,\n",
       " 832040,\n",
       " 1346269,\n",
       " 2178309,\n",
       " 3524578,\n",
       " 5702887,\n",
       " 9227465,\n",
       " 14930352,\n",
       " 24157817]"
      ]
     },
     "execution_count": 27,
     "metadata": {},
     "output_type": "execute_result"
    }
   ],
   "source": [
    "[next(fibber_one) for x in range(33)]"
   ]
  },
  {
   "cell_type": "code",
   "execution_count": 28,
   "metadata": {
    "collapsed": false,
    "slideshow": {
     "slide_type": "-"
    }
   },
   "outputs": [
    {
     "data": {
      "text/plain": [
       "<zip at 0x10b829648>"
      ]
     },
     "execution_count": 28,
     "metadata": {},
     "output_type": "execute_result"
    }
   ],
   "source": [
    "zip(_, list_get_primes(100))"
   ]
  },
  {
   "cell_type": "code",
   "execution_count": 29,
   "metadata": {
    "collapsed": false
   },
   "outputs": [
    {
     "data": {
      "text/plain": [
       "[(5, 2),\n",
       " (8, 3),\n",
       " (13, 5),\n",
       " (21, 7),\n",
       " (34, 11),\n",
       " (55, 13),\n",
       " (89, 17),\n",
       " (144, 19),\n",
       " (233, 23),\n",
       " (377, 29),\n",
       " (610, 31),\n",
       " (987, 37),\n",
       " (1597, 41),\n",
       " (2584, 43),\n",
       " (4181, 47),\n",
       " (6765, 53),\n",
       " (10946, 59),\n",
       " (17711, 61),\n",
       " (28657, 67),\n",
       " (46368, 71),\n",
       " (75025, 73),\n",
       " (121393, 79),\n",
       " (196418, 83),\n",
       " (317811, 89),\n",
       " (514229, 97)]"
      ]
     },
     "execution_count": 29,
     "metadata": {},
     "output_type": "execute_result"
    }
   ],
   "source": [
    "[item for item in _]"
   ]
  },
  {
   "cell_type": "code",
   "execution_count": 30,
   "metadata": {
    "collapsed": false,
    "slideshow": {
     "slide_type": "slide"
    }
   },
   "outputs": [
    {
     "name": "stdout",
     "output_type": "stream",
     "text": [
      "Writing tickers.csv\n"
     ]
    }
   ],
   "source": [
    "%%writefile tickers.csv\n",
    "AAPL,Buy,300,12.50\n",
    "AAPL,Buy,100,102.3\n",
    "BIDU,Short,10,23\n",
    "AAPL,Buy,100,2 \n",
    "BIDO,Buy,20,33\n",
    "AAPL,Sell,22,45"
   ]
  },
  {
   "cell_type": "markdown",
   "metadata": {},
   "source": [
    "We can use the `%%writefile` cell magic to write the contents of the cell to a file. `writefile` uses the filename we give it on the line we invoke it.\n",
    "\n",
    "Also note that `writefile` begins with two percentage signs because it applies to the entire cell, and is thus a cell magic, as opposed to a line magic."
   ]
  },
  {
   "cell_type": "code",
   "execution_count": 31,
   "metadata": {
    "collapsed": false
   },
   "outputs": [
    {
     "name": "stdout",
     "output_type": "stream",
     "text": [
      "f###in_magic.ipynb        f###in_magic.slides.html  readme.md                 requirements.txt          tickers.csv\r\n"
     ]
    }
   ],
   "source": [
    "%ls"
   ]
  },
  {
   "cell_type": "code",
   "execution_count": 32,
   "metadata": {
    "collapsed": true
   },
   "outputs": [],
   "source": [
    "%mkdir trades"
   ]
  },
  {
   "cell_type": "code",
   "execution_count": 33,
   "metadata": {
    "collapsed": true
   },
   "outputs": [],
   "source": [
    "%mv tickers.csv trades"
   ]
  },
  {
   "cell_type": "code",
   "execution_count": 34,
   "metadata": {
    "collapsed": false
   },
   "outputs": [
    {
     "name": "stdout",
     "output_type": "stream",
     "text": [
      "/Users/gordon/src/ipy_talk/trades\n"
     ]
    }
   ],
   "source": [
    "%cd trades"
   ]
  },
  {
   "cell_type": "markdown",
   "metadata": {},
   "source": [
    "Most useful command-line navigation functions have line magic functions with the same name, allowing us to do much of the organization we'd otherwise do in bash directly from the IPython notebook. Similarly, when you're using IPython interactively from the command-line, you can do all of the above without having to exit the IPython session."
   ]
  },
  {
   "cell_type": "code",
   "execution_count": null,
   "metadata": {
    "collapsed": true
   },
   "outputs": [],
   "source": [
    "# %load ../../../ohgodohgod.py\n",
    "import csv\n",
    "from collections import defaultdict\n",
    "\n",
    "file = open(\"trades.csv\")\n",
    "trades = csv.reader(file)\n",
    "\n",
    "trade_dict = defaultdict(float)\n",
    "\n",
    "for line in trades:\n",
    "\tamount = float(line[2]) * float(line[3])\n",
    "\tval = 1\n",
    "\tif line[1] == \"Buy\":\n",
    "\t\tamount = -1 * amount\n",
    "\ttrade_dict[line[0]] += amount\n",
    "\t\n",
    "\n",
    "print(trade_dict)\n"
   ]
  },
  {
   "cell_type": "markdown",
   "metadata": {},
   "source": [
    "The `%load` magic loads the content of the file you give it into the cell and then comments itself out. Here we can repurpose a script I wrote immediately after getting out of an interview I thought I bombed. (I wanted to confirm that I still knew how to program after a live coding interview in which I wrote something that did approximately what the above does.)"
   ]
  },
  {
   "cell_type": "code",
   "execution_count": 36,
   "metadata": {
    "collapsed": false,
    "slideshow": {
     "slide_type": "subslide"
    }
   },
   "outputs": [
    {
     "name": "stdout",
     "output_type": "stream",
     "text": [
      "defaultdict(<class 'float'>, {'BIDU': 230.0, 'AAPL': -13190.0, 'BIDO': -660.0})\n"
     ]
    }
   ],
   "source": [
    "# %load ../../../ohgodohgod.py\n",
    "import csv\n",
    "from collections import defaultdict\n",
    "\n",
    "def proc_tickers(filename):\n",
    "    file = open(filename)\n",
    "    trades = csv.reader(file)\n",
    "\n",
    "    trade_dict = defaultdict(float)\n",
    "\n",
    "    for line in trades:\n",
    "        amount = float(line[2]) * float(line[3])\n",
    "        val = 1\n",
    "        if line[1] == \"Buy\":\n",
    "            amount = -1 * amount\n",
    "        trade_dict[line[0]] += amount\n",
    "    \n",
    "    return trade_dict\n",
    "\n",
    "profit_loss = proc_tickers(\"tickers.csv\")\n",
    "\n",
    "print(profit_loss)"
   ]
  },
  {
   "cell_type": "markdown",
   "metadata": {},
   "source": [
    "With some minor modifications, we've turned the script into a function."
   ]
  },
  {
   "cell_type": "code",
   "execution_count": 37,
   "metadata": {
    "collapsed": false,
    "slideshow": {
     "slide_type": "slide"
    }
   },
   "outputs": [
    {
     "name": "stdout",
     "output_type": "stream",
     "text": [
      "/Users/gordon/src/ipy_talk\n"
     ]
    }
   ],
   "source": [
    "%%bash\n",
    "cd ..\n",
    "rm -r trades\n",
    "pwd"
   ]
  },
  {
   "cell_type": "markdown",
   "metadata": {},
   "source": [
    "The same series of command-line line magics we can used before can be replaced by a single cell with the `%%bash` cell magic."
   ]
  },
  {
   "cell_type": "code",
   "execution_count": 38,
   "metadata": {
    "collapsed": false,
    "slideshow": {
     "slide_type": "slide"
    }
   },
   "outputs": [],
   "source": [
    "a = 10\n",
    "b = 20\n",
    "c = set_get_primes(a + b)"
   ]
  },
  {
   "cell_type": "code",
   "execution_count": 39,
   "metadata": {
    "collapsed": false
   },
   "outputs": [
    {
     "name": "stdout",
     "output_type": "stream",
     "text": [
      "Macro `some_primes` created. To execute, type its name (without quotes).\n",
      "=== Macro contents: ===\n",
      "a = 10\n",
      "b = 20\n",
      "c = set_get_primes(a + b)\n",
      " "
     ]
    }
   ],
   "source": [
    "%macro some_primes 38"
   ]
  },
  {
   "cell_type": "markdown",
   "metadata": {},
   "source": [
    "We can create a macro (short for macroinstruction) out of input cell 41 (or a range of cells, if we're fancy - consult the IPython docs for more), so that whenever we call `some_primes` again in the notebook, it runs the three statements in that cell again."
   ]
  },
  {
   "cell_type": "code",
   "execution_count": 40,
   "metadata": {
    "collapsed": true
   },
   "outputs": [],
   "source": [
    "a = 0\n",
    "b = 0 \n",
    "c = {}"
   ]
  },
  {
   "cell_type": "code",
   "execution_count": 41,
   "metadata": {
    "collapsed": false
   },
   "outputs": [
    {
     "name": "stdout",
     "output_type": "stream",
     "text": [
      "0\n",
      "0\n",
      "{}\n"
     ]
    }
   ],
   "source": [
    "print(a)\n",
    "print(b)\n",
    "print(c)"
   ]
  },
  {
   "cell_type": "code",
   "execution_count": 42,
   "metadata": {
    "collapsed": false
   },
   "outputs": [],
   "source": [
    "some_primes"
   ]
  },
  {
   "cell_type": "code",
   "execution_count": 43,
   "metadata": {
    "collapsed": false
   },
   "outputs": [
    {
     "name": "stdout",
     "output_type": "stream",
     "text": [
      "10\n",
      "20\n",
      "{2, 3, 5, 7, 11, 13, 17, 19, 23, 29}\n"
     ]
    }
   ],
   "source": [
    "print(a)\n",
    "print(b)\n",
    "print(c)"
   ]
  },
  {
   "cell_type": "code",
   "execution_count": 44,
   "metadata": {
    "collapsed": false
   },
   "outputs": [
    {
     "name": "stdout",
     "output_type": "stream",
     "text": [
      "Variable          Type           Data/Info\n",
      "------------------------------------------\n",
      "IPython           module         <module 'IPython' from '/<...>ges/IPython/__init__.py'>\n",
      "a                 int            10\n",
      "b                 int            20\n",
      "c                 set            {2, 3, 5, 7, 11, 13, 17, 19, 23, 29}\n",
      "csv               module         <module 'csv' from '/usr/<...>.4/lib/python3.4/csv.py'>\n",
      "defaultdict       type           <class 'collections.defaultdict'>\n",
      "fibber            function       <function fibber at 0x10b828378>\n",
      "fibber_one        generator      <generator object fibber at 0x10b824510>\n",
      "list_get_primes   function       <function list_get_primes at 0x10b81c840>\n",
      "proc_tickers      function       <function proc_tickers at 0x10a2022f0>\n",
      "profit_loss       defaultdict    defaultdict(<class 'float<...>13190.0, 'BIDO': -660.0})\n",
      "set_get_primes    function       <function set_get_primes at 0x10b81cc80>\n",
      "some_primes       Macro          a = 10\\nb = 20\\nc = set_get_primes(a + b)\\n\n"
     ]
    }
   ],
   "source": [
    "%whos"
   ]
  },
  {
   "cell_type": "code",
   "execution_count": 45,
   "metadata": {
    "collapsed": false,
    "slideshow": {
     "slide_type": "slide"
    }
   },
   "outputs": [
    {
     "data": {
      "text/latex": [
       "$\\frac{a}{\\left(\\frac{b}{c}\\right)} = \\frac{ac}{b}$"
      ],
      "text/plain": [
       "<IPython.core.display.Latex object>"
      ]
     },
     "metadata": {},
     "output_type": "display_data"
    }
   ],
   "source": [
    "%%latex\n",
    "$\\frac{a}{\\left(\\frac{b}{c}\\right)} = \\frac{ac}{b}$"
   ]
  },
  {
   "cell_type": "code",
   "execution_count": 46,
   "metadata": {
    "collapsed": false,
    "slideshow": {
     "slide_type": "subslide"
    }
   },
   "outputs": [
    {
     "data": {
      "text/latex": [
       "\\begin{align}\n",
       "2x^2 + 3(x-1)(x-2) & = 2x^2 + 3(x^2-3x+2)\\\\\n",
       "\\nonumber &= 2x^2 + 3x^2 - 9x + 6\\\\\n",
       "&= 5x^2 - 9x + 6\n",
       "\\end{align}"
      ],
      "text/plain": [
       "<IPython.core.display.Latex object>"
      ]
     },
     "metadata": {},
     "output_type": "display_data"
    }
   ],
   "source": [
    "%%latex\n",
    "\\begin{align}\n",
    "2x^2 + 3(x-1)(x-2) & = 2x^2 + 3(x^2-3x+2)\\\\\n",
    "\\nonumber &= 2x^2 + 3x^2 - 9x + 6\\\\\n",
    "&= 5x^2 - 9x + 6\n",
    "\\end{align}"
   ]
  },
  {
   "cell_type": "code",
   "execution_count": 48,
   "metadata": {
    "collapsed": false,
    "slideshow": {
     "slide_type": "slide"
    }
   },
   "outputs": [
    {
     "name": "stdout",
     "output_type": "stream",
     "text": [
      "If for some reason you need to run some Ruby in a cell, you can run Ruby.\n"
     ]
    }
   ],
   "source": [
    "%%ruby\n",
    "puts(\"If for some reason you need to run some Ruby in a cell, you can run Ruby.\")\n",
    "x = 25"
   ]
  },
  {
   "cell_type": "code",
   "execution_count": 49,
   "metadata": {
    "collapsed": false
   },
   "outputs": [
    {
     "name": "stdout",
     "output_type": "stream",
     "text": [
      "(3, 2)\n"
     ]
    }
   ],
   "source": [
    "%%pypy\n",
    "a = 1\n",
    "b = 2\n",
    "a, b = b + 1, a + 1\n",
    "print(a, b)"
   ]
  },
  {
   "cell_type": "code",
   "execution_count": 50,
   "metadata": {
    "collapsed": false,
    "slideshow": {
     "slide_type": "slide"
    }
   },
   "outputs": [
    {
     "name": "stdout",
     "output_type": "stream",
     "text": [
      " \u001b[0mlist_get_primes\u001b[0m\u001b[0;34m(\u001b[0m\u001b[0mlimit\u001b[0m\u001b[0;34m)\u001b[0m\u001b[0;34m\u001b[0m\u001b[0m\n",
      " "
     ]
    }
   ],
   "source": [
    "%pdef list_get_primes"
   ]
  },
  {
   "cell_type": "code",
   "execution_count": 51,
   "metadata": {
    "collapsed": false,
    "slideshow": {
     "slide_type": "subslide"
    }
   },
   "outputs": [
    {
     "data": {
      "text/plain": [
       "\u001b[0;31mClass docstring:\u001b[0m\n",
       "    Get a list of all the primes under the integer limit.\n",
       "\u001b[0;31mCall docstring:\u001b[0m\n",
       "    Call self as a function."
      ]
     },
     "metadata": {},
     "output_type": "display_data"
    }
   ],
   "source": [
    "%pdoc list_get_primes"
   ]
  }
 ],
 "metadata": {
  "celltoolbar": "Slideshow",
  "kernelspec": {
   "display_name": "Python 3",
   "language": "python",
   "name": "python3"
  },
  "language_info": {
   "codemirror_mode": {
    "name": "ipython",
    "version": 3
   },
   "file_extension": ".py",
   "mimetype": "text/x-python",
   "name": "python",
   "nbconvert_exporter": "python",
   "pygments_lexer": "ipython3",
   "version": "3.4.3"
  }
 },
 "nbformat": 4,
 "nbformat_minor": 0
}
